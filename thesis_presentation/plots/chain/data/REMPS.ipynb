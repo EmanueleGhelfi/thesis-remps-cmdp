{
 "cells": [
  {
   "cell_type": "code",
   "execution_count": 14,
   "metadata": {},
   "outputs": [
    {
     "data": {
      "text/plain": [
       "['remps/10k_samples/chain-n-actions2-omega0.8-traj10000-DualReg0.0PolReg-0.0TrainingSet500exact10eps-0.0020001/progress.csv',\n",
       " 'remps/10k_samples/chain-n-actions2-omega0.8-traj10000-DualReg0.0PolReg-0.0TrainingSet500exact10eps-0.0045001/progress.csv',\n",
       " 'remps/10k_samples/chain-n-actions2-omega0.8-traj10000-DualReg0.0PolReg-0.0TrainingSet500exact10eps-0.0055001/progress.csv',\n",
       " 'remps/10k_samples/chain-n-actions2-omega0.8-traj10000-DualReg0.0PolReg-0.0TrainingSet500exact10eps-0.0030001/progress.csv',\n",
       " 'remps/10k_samples/chain-n-actions2-omega0.8-traj10000-DualReg0.0PolReg-0.0TrainingSet500exact10eps-0.0010001/progress.csv',\n",
       " 'remps/10k_samples/chain-n-actions2-omega0.8-traj10000-DualReg0.0PolReg-0.0TrainingSet500exact10eps-0.0075001/progress.csv',\n",
       " 'remps/10k_samples/chain-n-actions2-omega0.8-traj10000-DualReg0.0PolReg-0.0TrainingSet500exact10eps-0.0065001/progress.csv',\n",
       " 'remps/10k_samples/chain-n-actions2-omega0.8-traj10000-DualReg0.0PolReg-0.0TrainingSet500exact10eps-0.0040001/progress.csv',\n",
       " 'remps/10k_samples/chain-n-actions2-omega0.8-traj10000-DualReg0.0PolReg-0.0TrainingSet500exact10eps-0.501/progress.csv',\n",
       " 'remps/10k_samples/chain-n-actions2-omega0.8-traj10000-DualReg0.0PolReg-0.0TrainingSet500exact10eps-0.0025001/progress.csv',\n",
       " 'remps/10k_samples/chain-n-actions2-omega0.8-traj10000-DualReg0.0PolReg-0.0TrainingSet500exact10eps-1.7/progress.csv',\n",
       " 'remps/10k_samples/chain-n-actions2-omega0.8-traj10000-DualReg0.0PolReg-0.0TrainingSet500exact10eps-0.0035001/progress.csv',\n",
       " 'remps/10k_samples/chain-n-actions2-omega0.8-traj10000-DualReg0.0PolReg-0.0TrainingSet500exact10eps-1.35/progress.csv',\n",
       " 'remps/10k_samples/chain-n-actions2-omega0.8-traj10000-DualReg0.0PolReg-0.0TrainingSet500exact10eps-0.0050001/progress.csv',\n",
       " 'remps/10k_samples/chain-n-actions2-omega0.8-traj10000-DualReg0.0PolReg-0.0TrainingSet500exact10eps-0.751/progress.csv',\n",
       " 'remps/10k_samples/chain-n-actions2-omega0.8-traj10000-DualReg0.0PolReg-0.0TrainingSet500exact10eps-0.351/progress.csv',\n",
       " 'remps/10k_samples/chain-n-actions2-omega0.8-traj10000-DualReg0.0PolReg-0.0TrainingSet500exact10eps-0.0070001/progress.csv',\n",
       " 'remps/10k_samples/chain-n-actions2-omega0.8-traj10000-DualReg0.0PolReg-0.0TrainingSet500exact10eps-1.101/progress.csv',\n",
       " 'remps/10k_samples/chain-n-actions2-omega0.8-traj10000-DualReg0.0PolReg-0.0TrainingSet500exact10eps-0.951/progress.csv',\n",
       " 'remps/10k_samples/chain-n-actions2-omega0.8-traj10000-DualReg0.0PolReg-0.0TrainingSet500exact10eps-0.0015001/progress.csv',\n",
       " 'remps/10k_samples/chain-n-actions2-omega0.8-traj10000-DualReg0.0PolReg-0.0TrainingSet500exact10eps-1.05/progress.csv',\n",
       " 'remps/10k_samples/chain-n-actions2-omega0.8-traj10000-DualReg0.0PolReg-0.0TrainingSet500exact10eps-0.0005001/progress.csv',\n",
       " 'remps/10k_samples/chain-n-actions2-omega0.8-traj10000-DualReg0.0PolReg-0.0TrainingSet500exact10eps-0.0060001/progress.csv',\n",
       " 'remps/10k_samples/chain-n-actions2-omega0.8-traj10000-DualReg0.0PolReg-0.0TrainingSet500exact10eps-0.101/progress.csv',\n",
       " 'remps/10k_samples/chain-n-actions2-omega0.8-traj10000-DualReg0.0PolReg-0.0TrainingSet500exact10eps-1.351/progress.csv',\n",
       " 'remps/10k_samples/chain-n-actions2-omega0.8-traj10000-DualReg0.0PolReg-0.0TrainingSet500exact10eps-1.2-20180924-143909/progress.csv',\n",
       " 'remps/10k_samples/chain-n-actions2-omega0.8-traj10000-DualReg0.0PolReg-0.0TrainingSet500exact10eps-1.6/progress.csv',\n",
       " 'remps/10k_samples/chain-n-actions2-omega0.8-traj10000-DualReg0.0PolReg-0.0TrainingSet500exact10eps-1.45/progress.csv',\n",
       " 'remps/10k_samples/chain-n-actions2-omega0.8-traj10000-DualReg0.0PolReg-0.0TrainingSet500exact10eps-0.451/progress.csv',\n",
       " 'remps/10k_samples/chain-n-actions2-omega0.8-traj10000-DualReg0.0PolReg-0.0TrainingSet500exact10eps-1.451/progress.csv',\n",
       " 'remps/10k_samples/chain-n-actions2-omega0.8-traj10000-DualReg0.0PolReg-0.0TrainingSet500exact10eps-1.4-20180924-144720/progress.csv',\n",
       " 'remps/10k_samples/chain-n-actions2-omega0.8-traj10000-DualReg0.0PolReg-0.0TrainingSet500exact10eps-0.601/progress.csv',\n",
       " 'remps/10k_samples/chain-n-actions2-omega0.8-traj10000-DualReg0.0PolReg-0.0TrainingSet500exact10eps-0.201/progress.csv',\n",
       " 'remps/10k_samples/chain-n-actions2-omega0.8-traj10000-DualReg0.0PolReg-0.0TrainingSet500exact10eps-0.5/progress.csv',\n",
       " 'remps/10k_samples/chain-n-actions2-omega0.8-traj10000-DualReg0.0PolReg-0.0TrainingSet500exact10eps-1.051/progress.csv',\n",
       " 'remps/10k_samples/chain-n-actions2-omega0.8-traj10000-DualReg0.0PolReg-0.0TrainingSet500exact10eps-0.801/progress.csv',\n",
       " 'remps/10k_samples/chain-n-actions2-omega0.8-traj10000-DualReg0.0PolReg-0.0TrainingSet500exact10eps-0.051/progress.csv',\n",
       " 'remps/10k_samples/chain-n-actions2-omega0.8-traj10000-DualReg0.0PolReg-0.0TrainingSet500exact10eps-1.201/progress.csv',\n",
       " 'remps/10k_samples/chain-n-actions2-omega0.8-traj10000-DualReg0.0PolReg-0.0TrainingSet500exact10eps-2.0-20180924-143908/progress.csv',\n",
       " 'remps/10k_samples/chain-n-actions2-omega0.8-traj10000-DualReg0.0PolReg-0.0TrainingSet500exact10eps-1.1-20180924-143909/progress.csv',\n",
       " 'remps/10k_samples/chain-n-actions2-omega0.8-traj10000-DualReg0.0PolReg-0.0TrainingSet500exact10eps-0.551/progress.csv',\n",
       " 'remps/10k_samples/chain-n-actions2-omega0.8-traj10000-DualReg0.0PolReg-0.0TrainingSet500exact10eps-1.3/progress.csv',\n",
       " 'remps/10k_samples/chain-n-actions2-omega0.8-traj10000-DualReg0.0PolReg-0.0TrainingSet500exact10eps-0.701/progress.csv',\n",
       " 'remps/10k_samples/chain-n-actions2-omega0.8-traj10000-DualReg0.0PolReg-0.0TrainingSet500exact10eps-0.901/progress.csv',\n",
       " 'remps/10k_samples/chain-n-actions2-omega0.8-traj10000-DualReg0.0PolReg-0.0TrainingSet500exact10eps-1.151/progress.csv',\n",
       " 'remps/10k_samples/chain-n-actions2-omega0.8-traj10000-DualReg0.0PolReg-0.0TrainingSet500exact10eps-1.9-20180924-143909/progress.csv',\n",
       " 'remps/10k_samples/chain-n-actions2-omega0.8-traj10000-DualReg0.0PolReg-0.0TrainingSet500exact10eps-1.5/progress.csv',\n",
       " 'remps/10k_samples/chain-n-actions2-omega0.8-traj10000-DualReg0.0PolReg-0.0TrainingSet500exact10eps-0.301/progress.csv',\n",
       " 'remps/10k_samples/chain-n-actions2-omega0.8-traj10000-DualReg0.0PolReg-0.0TrainingSet500exact10eps-1.301/progress.csv',\n",
       " 'remps/10k_samples/chain-n-actions2-omega0.8-traj10000-DualReg0.0PolReg-0.0TrainingSet500exact10eps-1e-07-20180924-122851/progress.csv',\n",
       " 'remps/10k_samples/chain-n-actions2-omega0.8-traj10000-DualReg0.0PolReg-0.0TrainingSet500exact10eps-0.151/progress.csv',\n",
       " 'remps/10k_samples/chain-n-actions2-omega0.8-traj10000-DualReg0.0PolReg-0.0TrainingSet500exact10eps-1.15/progress.csv',\n",
       " 'remps/10k_samples/chain-n-actions2-omega0.8-traj10000-DualReg0.0PolReg-0.0TrainingSet500exact10eps-1.8-20180924-143909/progress.csv',\n",
       " 'remps/10k_samples/chain-n-actions2-omega0.8-traj10000-DualReg0.0PolReg-0.0TrainingSet500exact10eps-0.0080001/progress.csv',\n",
       " 'remps/10k_samples/chain-n-actions2-omega0.8-traj10000-DualReg0.0PolReg-0.0TrainingSet500exact10eps-0.0090001/progress.csv',\n",
       " 'remps/10k_samples/chain-n-actions2-omega0.8-traj10000-DualReg0.0PolReg-0.0TrainingSet500exact10eps-1.25/progress.csv',\n",
       " 'remps/10k_samples/chain-n-actions2-omega0.8-traj10000-DualReg0.0PolReg-0.0TrainingSet500exact10eps-0.401/progress.csv',\n",
       " 'remps/10k_samples/chain-n-actions2-omega0.8-traj10000-DualReg0.0PolReg-0.0TrainingSet500exact10eps-1.0-20180924-143908/progress.csv',\n",
       " 'remps/10k_samples/chain-n-actions2-omega0.8-traj10000-DualReg0.0PolReg-0.0TrainingSet500exact10eps-0.651/progress.csv',\n",
       " 'remps/10k_samples/chain-n-actions2-omega0.8-traj10000-DualReg0.0PolReg-0.0TrainingSet500exact10eps-0.9/progress.csv',\n",
       " 'remps/10k_samples/chain-n-actions2-omega0.8-traj10000-DualReg0.0PolReg-0.0TrainingSet500exact10eps-0.7/progress.csv',\n",
       " 'remps/10k_samples/chain-n-actions2-omega0.8-traj10000-DualReg0.0PolReg-0.0TrainingSet500exact10eps-1.401/progress.csv',\n",
       " 'remps/10k_samples/chain-n-actions2-omega0.8-traj10000-DualReg0.0PolReg-0.0TrainingSet500exact10eps-0.851/progress.csv',\n",
       " 'remps/10k_samples/chain-n-actions2-omega0.8-traj10000-DualReg0.0PolReg-0.0TrainingSet500exact10eps-1.001/progress.csv',\n",
       " 'remps/10k_samples/chain-n-actions2-omega0.8-traj10000-DualReg0.0PolReg-0.0TrainingSet500exact10eps-0.251/progress.csv',\n",
       " 'remps/10k_samples/chain-n-actions2-omega0.8-traj10000-DualReg0.0PolReg-0.0TrainingSet500exact10eps-0.0085001/progress.csv',\n",
       " 'remps/10k_samples/chain-n-actions2-omega0.8-traj10000-DualReg0.0PolReg-0.0TrainingSet500exact10eps-0.0095001/progress.csv',\n",
       " 'remps/10k_samples/chain-n-actions2-omega0.8-traj10000-DualReg0.0PolReg-0.0TrainingSet500exact10eps-0.6/progress.csv',\n",
       " 'remps/10k_samples/chain-n-actions2-omega0.8-traj10000-DualReg0.0PolReg-0.0TrainingSet500exact10eps-1.251/progress.csv',\n",
       " 'remps/10k_samples/chain-n-actions2-omega0.8-traj10000-DualReg0.0PolReg-0.0TrainingSet500exact10eps-0.8/progress.csv']"
      ]
     },
     "execution_count": 14,
     "metadata": {},
     "output_type": "execute_result"
    }
   ],
   "source": [
    "%matplotlib inline\n",
    "import pandas as pd\n",
    "import numpy as np\n",
    "import scipy.stats as sts\n",
    "import glob\n",
    "paths= glob.glob(\"remps/10k_samples/*/progress.csv\")\n",
    "paths"
   ]
  },
  {
   "cell_type": "code",
   "execution_count": 15,
   "metadata": {},
   "outputs": [],
   "source": [
    "max_rets = []\n",
    "eps = []\n",
    "primals = []\n",
    "for p in paths:\n",
    "    df = pd.read_csv(p)\n",
    "    max_rets.append(np.max(df.ReturnsMean))\n",
    "    eps.append(df.Epsilon[0])\n",
    "    primals.append(np.max(df.Primal))"
   ]
  },
  {
   "cell_type": "code",
   "execution_count": 16,
   "metadata": {},
   "outputs": [],
   "source": [
    "idx = np.argsort(eps)\n",
    "eps = np.array(eps)[idx]\n",
    "max_rets = np.array(max_rets)[idx]\n",
    "primals = np.array(primals)[idx]"
   ]
  },
  {
   "cell_type": "code",
   "execution_count": 6,
   "metadata": {},
   "outputs": [
    {
     "data": {
      "text/plain": [
       "array([ 7.66954973, 10.        , 10.        , 10.        , 10.        ,\n",
       "       10.        , 10.        , 10.        , 10.        , 10.        ,\n",
       "       10.        , 10.        , 10.        , 10.        , 10.        ,\n",
       "       10.        , 10.        , 10.        , 10.        , 10.        ,\n",
       "       10.        , 10.        , 10.        , 10.        , 10.        ,\n",
       "       10.        , 10.        , 10.        , 10.        , 10.        ,\n",
       "       10.        , 10.        , 10.        , 10.        , 10.        ,\n",
       "       10.        , 10.        , 10.        , 10.        , 10.        ,\n",
       "       10.        , 10.        , 10.        , 10.        , 10.        ,\n",
       "       10.        , 10.        , 10.        , 10.        , 10.        ,\n",
       "       10.        , 10.        , 10.        , 10.        , 10.        ,\n",
       "       10.        , 10.        , 10.        , 10.        , 10.        ,\n",
       "       10.        , 10.        , 10.        , 10.        , 10.        ,\n",
       "       10.        , 10.        , 10.        , 10.        , 10.        ,\n",
       "       10.        , 10.        , 10.        ,  6.16761997,  6.27577751,\n",
       "        6.31403657,  6.38568373,  6.46665538,  6.51808716,  6.57025291,\n",
       "        6.58357515,  6.64159437,  6.68593638,  6.73260542,  6.77105572,\n",
       "        6.77033928,  6.85091525,  6.8753929 ,  6.89754636,  6.94324236,\n",
       "        6.96718227,  7.03137105,  7.07001607,  7.09629641,  7.13408282,\n",
       "        7.1458761 ,  7.20984032,  7.21324573,  7.23506958,  7.2794406 ,\n",
       "        7.2995952 ,  7.35123007,  7.35378406,  7.3712791 ,  7.39796155,\n",
       "        7.43035833,  7.44811166,  7.47631936,  7.49713688,  7.53346828,\n",
       "        7.54694411,  7.59033023,  7.60712686,  7.62140841,  7.63876652,\n",
       "        7.65967132,  7.67868651,  7.71414296,  7.73200337,  7.75111902,\n",
       "        7.7691199 ,  7.77999318,  7.81835485,  7.82022545,  7.82694635,\n",
       "        7.85487081,  7.86268645,  7.88621483,  7.89778523,  7.91518625,\n",
       "        7.92194158,  7.93706287,  7.95022739,  7.97343396,  7.97953078,\n",
       "        8.        ,  7.99170919, 10.        , 10.        , 10.        ,\n",
       "        8.        ,  8.        ,  8.        ,  8.0126458 ,  8.02343456,\n",
       "        8.03281173,  8.03490944,  8.        ,  8.04224749,  8.        ,\n",
       "        8.        ,  8.        ,  8.01528384,  8.01226884,  8.0324707 ,\n",
       "        8.03466314,  8.05915727,  8.06274257,  8.05528631,  8.09562972,\n",
       "        8.08682738,  8.11347241,  8.09870639,  8.10735732,  8.10481404,\n",
       "        8.10935601,  8.11495088,  8.14760737,  8.1528171 ,  8.15060274,\n",
       "        8.12647203,  8.15161762,  8.15673966,  8.14786345,  8.15635215,\n",
       "        8.18031642,  8.19267859,  8.15797752,  8.1786766 ,  8.17729806,\n",
       "        8.19365426,  8.18016746,  8.22440978,  8.20215512,  8.2274078 ,\n",
       "        8.24853626,  8.2366827 ,  8.2791069 ,  8.294574  ,  8.26471751,\n",
       "        8.28600436,  8.33553095,  8.29842293,  8.35679812,  8.37679473,\n",
       "        8.37148448,  8.36249347,  8.36613986,  8.45009099])"
      ]
     },
     "execution_count": 6,
     "metadata": {},
     "output_type": "execute_result"
    }
   ],
   "source": [
    "primals"
   ]
  },
  {
   "cell_type": "code",
   "execution_count": 17,
   "metadata": {},
   "outputs": [
    {
     "data": {
      "image/png": "[encoded data removed]",
      "text/plain": [
       "<matplotlib.figure.Figure at 0x10b016208>"
      ]
     },
     "metadata": {},
     "output_type": "display_data"
    }
   ],
   "source": [
    "import matplotlib.pyplot as plt\n",
    "from scipy.signal import savgol_filter\n",
    "plt.close('all')\n",
    "plt.style.use('ggplot')\n",
    "plt.rc('text', usetex=True)\n",
    "plt.rc('font', family='serif')\n",
    "plt.close('all')\n",
    "plt.style.use('ggplot')\n",
    "plt.rc('text', usetex=True)\n",
    "plt.rc('font', family='serif')\n",
    "\n",
    "\n",
    "from scipy.interpolate import interp1d\n",
    "from scipy import interpolate\n",
    "\n",
    "f2 = interp1d(eps, max_rets,kind='nearest')\n",
    "xnew = np.linspace(eps.min(),eps.max(), 100) #300 represents number of points to make between T.min and T.max\n",
    "ret_new = f2(xnew)\n",
    "f3 = interp1d(eps, primals, kind='nearest')\n",
    "primal_new = f3(xnew)\n",
    "\n",
    "plt.plot(xnew,primal_new, xnew, ret_new/500)\n",
    "to_save = np.hstack((np.reshape(xnew,(-1,1)),np.reshape(ret_new/500, (-1,1)), np.reshape(primal_new, (-1,1))))\n",
    "np.savetxt(\"remps_J_eps_10k.csv\", to_save, delimiter=',', header=\"epsilon,J,primal\", comments=\"\")"
   ]
  },
  {
   "cell_type": "code",
   "execution_count": 12,
   "metadata": {},
   "outputs": [
    {
     "data": {
      "text/plain": [
       "array([0.0101, 0.0201, 0.0301, 0.0401, 0.0501, 0.0601, 0.0701, 0.0801,\n",
       "       0.0901, 0.1001, 0.1101, 0.1201, 0.1301, 0.1401, 0.1501, 0.1601,\n",
       "       0.1701, 0.1801, 0.1901, 0.2001, 0.2101, 0.2201, 0.2301, 0.2401,\n",
       "       0.2501, 0.2601, 0.2701, 0.2801, 0.2901, 0.3001, 0.3101, 0.3201,\n",
       "       0.3301, 0.3401, 0.3501, 0.3601, 0.3701, 0.3801, 0.3901, 0.4001,\n",
       "       0.4101, 0.4201, 0.4301, 0.4401, 0.4501, 0.4601, 0.4701, 0.4801,\n",
       "       0.4901, 0.5001, 0.5101, 0.5201, 0.5301, 0.5401, 0.5501, 0.5601,\n",
       "       0.5701, 0.5801, 0.5901, 0.6001, 0.6101, 0.6201, 0.6301, 0.6401,\n",
       "       0.6501, 0.6601, 0.6701, 0.6801, 0.6901, 0.7001, 0.7101, 0.7201,\n",
       "       0.7301, 0.7401, 0.7501, 0.7601, 0.7701, 0.7801, 0.7901, 0.8001,\n",
       "       0.8101, 0.8201, 0.8301, 0.8401, 0.8501, 0.8601, 0.8701, 0.8801,\n",
       "       0.8901, 0.9001, 0.9101, 0.9201, 0.9301, 0.9401, 0.9501, 0.9601,\n",
       "       0.9701, 0.9801, 0.9901, 1.0001, 1.0101, 1.0201, 1.0301, 1.0401,\n",
       "       1.0501, 1.0601, 1.0701, 1.0801, 1.0901, 1.1001, 1.1101, 1.1201,\n",
       "       1.1301, 1.1401, 1.1501, 1.1601, 1.1701, 1.1801, 1.1901, 1.2001,\n",
       "       1.2101, 1.2201, 1.2301, 1.2401, 1.2501, 1.2601, 1.2701, 1.2801,\n",
       "       1.2901, 1.3001, 1.3101, 1.3201, 1.3301, 1.3401, 1.3501, 1.3601,\n",
       "       1.3701, 1.3801, 1.3901, 1.4001, 1.4101, 1.4201, 1.4301, 1.4401,\n",
       "       1.4501, 1.4601, 1.4701, 1.4801, 1.4901, 1.5001, 1.5101, 1.5201,\n",
       "       1.5301, 1.5401, 1.5501, 1.5601, 1.5701, 1.5801, 1.5901, 1.6001,\n",
       "       1.6101, 1.6201, 1.6301, 1.6401, 1.6501, 1.6601, 1.6701, 1.6801,\n",
       "       1.6901, 1.7001, 1.7101, 1.7201, 1.7301, 1.7401, 1.7501, 1.7601,\n",
       "       1.7701, 1.7801, 1.7901, 1.8001, 1.8101, 1.8201, 1.8301, 1.8401,\n",
       "       1.8501, 1.8601, 1.8701, 1.8801, 1.8901, 1.9001, 1.9101, 1.9201,\n",
       "       1.9301, 1.9401, 1.9501, 1.9601, 1.9701, 1.9801, 1.9901])"
      ]
     },
     "execution_count": 12,
     "metadata": {},
     "output_type": "execute_result"
    }
   ],
   "source": [
    "eps"
   ]
  }
 ],
 "metadata": {
  "kernelspec": {
   "display_name": "Python 3",
   "language": "python",
   "name": "python3"
  },
  "language_info": {
   "codemirror_mode": {
    "name": "ipython",
    "version": 3
   },
   "file_extension": ".py",
   "mimetype": "text/x-python",
   "name": "python",
   "nbconvert_exporter": "python",
   "pygments_lexer": "ipython3",
   "version": "3.6.4"
  }
 },
 "nbformat": 4,
 "nbformat_minor": 2
}
