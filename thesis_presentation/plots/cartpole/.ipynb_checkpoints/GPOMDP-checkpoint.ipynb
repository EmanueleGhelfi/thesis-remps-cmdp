{
 "cells": [
  {
   "cell_type": "code",
   "execution_count": 2,
   "metadata": {},
   "outputs": [
    {
     "data": {
      "text/plain": [
       "['cartPole-n-actions2-omega8.0-traj100000-DualReg0.0PolReg-0.0TrainingSet500exacteps-0.001/progress.csv',\n",
       " 'cartPole-n-actions2-omega8.0-traj100000-DualReg0.0PolReg-0.0TrainingSet500exacteps-0.001-20180912-161207/progress.csv',\n",
       " 'cartPole-n-actions2-omega8.0-traj100000-DualReg0.0PolReg-0.0TrainingSet500exacteps-0.001-20180912-160607/progress.csv',\n",
       " 'cartPole-n-actions2-omega8.0-traj100000-DualReg0.0PolReg-0.0TrainingSet500exacteps-0.001-20180912-160005/progress.csv',\n",
       " 'cartPole-n-actions2-omega8.0-traj100000-DualReg0.0PolReg-0.0TrainingSet500exacteps-0.001-20180912-161006/progress.csv',\n",
       " 'cartPole-n-actions2-omega8.0-traj100000-DualReg0.0PolReg-0.0TrainingSet500exacteps-0.001-20180912-161407/progress.csv',\n",
       " 'cartPole-n-actions2-omega8.0-traj100000-DualReg0.0PolReg-0.0TrainingSet500exacteps-0.001-20180912-155804/progress.csv',\n",
       " 'cartPole-n-actions2-omega8.0-traj100000-DualReg0.0PolReg-0.0TrainingSet500exacteps-0.001-20180912-160406/progress.csv',\n",
       " 'cartPole-n-actions2-omega8.0-traj100000-DualReg0.0PolReg-0.0TrainingSet500exacteps-0.001-20180912-160205/progress.csv',\n",
       " 'cartPole-n-actions2-omega8.0-traj100000-DualReg0.0PolReg-0.0TrainingSet500exacteps-0.001-20180912-160805/progress.csv']"
      ]
     },
     "execution_count": 2,
     "metadata": {},
     "output_type": "execute_result"
    }
   ],
   "source": [
    "%matplotlib inline\n",
    "import pandas as pd\n",
    "import numpy as np\n",
    "import scipy.stats as sts\n",
    "import glob\n",
    "paths= glob.glob(\"*/progress*.csv\")\n",
    "paths"
   ]
  },
  {
   "cell_type": "code",
   "execution_count": 1,
   "metadata": {},
   "outputs": [
    {
     "name": "stdout",
     "output_type": "stream",
     "text": [
      "/Users/emanueleghelfi/OneDrive/Università/Magistrale/Thesis/ThesisLatex/plots/cartpole/data/remps-exact\n"
     ]
    }
   ],
   "source": [
    "cd data/remps-exact/"
   ]
  },
  {
   "cell_type": "code",
   "execution_count": 3,
   "metadata": {},
   "outputs": [],
   "source": [
    "conf = 0.95\n",
    "n_runs = 10\n",
    "\n",
    "dfs = [pd.read_csv(p) for p in paths]\n",
    "dfs[0].Omega\n",
    "min_length = np.min([d.shape[0] for d in dfs])\n",
    "\n",
    "rets_ = [d.ReturnsMean[0:min_length] for d in dfs]\n",
    "rets_np = np.transpose(np.array(rets_))\n",
    "rets_mean = np.mean(rets_np, axis=1, keepdims=True)\n",
    "rets_std = np.std(rets_np, axis=1, keepdims=True)\n",
    "\n",
    "# calculate upper and lower bound for confidence interval at 95%\n",
    "rets_interval = sts.t.interval(conf, n_runs-1,loc=rets_mean,scale=rets_std/np.sqrt(n_runs))\n",
    "rets_low = rets_interval[0]\n",
    "rets_sup = rets_interval[1]\n",
    "\n",
    "\n",
    "omega_ = [d.Omega[0:min_length] for d in dfs]\n",
    "omega_np = np.transpose(np.array(omega_))\n",
    "omega_mean = np.mean(omega_np, axis=1, keepdims=True)\n",
    "omega_std = np.std(omega_np, axis=1, keepdims=True)\n",
    "# calculate upper and lower bound for confidence interval at 95%\n",
    "omega_interval = sts.t.interval(conf, n_runs-1,loc=omega_mean,scale=omega_std/np.sqrt(n_runs))\n",
    "omega_low = omega_interval[0]\n",
    "omega_sup = omega_interval[1]\n",
    "\n",
    "#theta_ = [d.Theta for d in dfs]\n",
    "#theta_np = np.transpose(np.array(theta_))\n",
    "#theta_mean = np.mean(theta_np, axis=1, keepdims=True)\n",
    "#theta_std = np.std(theta_np, axis=1, keepdims=True)\n",
    "# calculate upper and lower bound for confidence interval at 95%\n",
    "#theta_interval = sts.t.interval(conf, n_runs-1,loc=theta_mean,scale=theta_std/np.sqrt(n_runs))\n",
    "#theta_low = theta_interval[0]\n",
    "#theta_sup = theta_interval[1]\n",
    "\n",
    "ts_ = [d.TimestepsMean[0:min_length] for d in dfs]\n",
    "ts_np = np.transpose(np.array(ts_))\n",
    "ts_mean = np.mean(ts_np, axis=1, keepdims=True)\n",
    "ts_std = np.std(ts_np, axis=1, keepdims=True)\n",
    "# calculate upper and lower bound for confidence interval at 95%\n",
    "ts_interval = sts.t.interval(conf, n_runs-1,loc=ts_mean,scale=ts_std/np.sqrt(n_runs))\n",
    "ts_low = ts_interval[0]\n",
    "ts_sup = ts_interval[1]\n",
    "\n",
    "\n",
    "\n",
    "it = np.reshape(np.array(dfs[0].ITERATIONS[0:min_length]), (-1,1))"
   ]
  },
  {
   "cell_type": "code",
   "execution_count": 4,
   "metadata": {},
   "outputs": [
    {
     "data": {
      "text/plain": [
       "(2000, 1)"
      ]
     },
     "execution_count": 4,
     "metadata": {},
     "output_type": "execute_result"
    }
   ],
   "source": [
    "it.shape"
   ]
  },
  {
   "cell_type": "code",
   "execution_count": 4,
   "metadata": {},
   "outputs": [],
   "source": [
    "file_name=\"remps_exact.csv\"\n",
    "to_write = np.concatenate((it, omega_mean, omega_std, omega_low, omega_sup, rets_mean, rets_std, rets_low, rets_sup, ts_mean, ts_std, ts_low, ts_sup), axis=1)\n",
    "np.savetxt(file_name, to_write, delimiter=',', header=\"Iterations, Omega_mean, Omega_std, Omega_low, Omega_sup, Ret_mean, Ret_std, Rets_low, Rets_sup, Ts_mean, Ts_std, Ts_low, Ts_sup\", comments='')\n"
   ]
  }
 ],
 "metadata": {
  "kernelspec": {
   "display_name": "Python 3",
   "language": "python",
   "name": "python3"
  },
  "language_info": {
   "codemirror_mode": {
    "name": "ipython",
    "version": 3
   },
   "file_extension": ".py",
   "mimetype": "text/x-python",
   "name": "python",
   "nbconvert_exporter": "python",
   "pygments_lexer": "ipython3",
   "version": "3.6.4"
  }
 },
 "nbformat": 4,
 "nbformat_minor": 2
}
