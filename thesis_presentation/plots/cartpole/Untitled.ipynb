{
 "cells": [
  {
   "cell_type": "markdown",
   "metadata": {},
   "source": [
    "# Plot random init"
   ]
  },
  {
   "cell_type": "code",
   "execution_count": 17,
   "metadata": {},
   "outputs": [
    {
     "data": {
      "text/plain": [
       "['data/random-init-nn/gpomdp/progress7.csv',\n",
       " 'data/random-init-nn/gpomdp/progress18.csv',\n",
       " 'data/random-init-nn/gpomdp/progress19.csv',\n",
       " 'data/random-init-nn/gpomdp/progress6.csv',\n",
       " 'data/random-init-nn/gpomdp/progress4.csv',\n",
       " 'data/random-init-nn/gpomdp/progress5.csv',\n",
       " 'data/random-init-nn/gpomdp/progress1.csv',\n",
       " 'data/random-init-nn/gpomdp/progress2.csv',\n",
       " 'data/random-init-nn/gpomdp/progress20.csv',\n",
       " 'data/random-init-nn/gpomdp/progress3.csv',\n",
       " 'data/random-init-nn/gpomdp/progress11.csv',\n",
       " 'data/random-init-nn/gpomdp/progress10.csv',\n",
       " 'data/random-init-nn/gpomdp/progress12.csv',\n",
       " 'data/random-init-nn/gpomdp/progress13.csv',\n",
       " 'data/random-init-nn/gpomdp/progress8.csv',\n",
       " 'data/random-init-nn/gpomdp/progress17.csv',\n",
       " 'data/random-init-nn/gpomdp/progress16.csv',\n",
       " 'data/random-init-nn/gpomdp/progress9.csv',\n",
       " 'data/random-init-nn/gpomdp/progress14.csv',\n",
       " 'data/random-init-nn/gpomdp/progress15.csv']"
      ]
     },
     "execution_count": 17,
     "metadata": {},
     "output_type": "execute_result"
    }
   ],
   "source": [
    "%matplotlib inline\n",
    "import pandas as pd\n",
    "import numpy as np\n",
    "import matplotlib.pyplot as plt\n",
    "import scipy.stats as sts\n",
    "import glob\n",
    "paths_gpomdp = glob.glob(\"data/random-init-nn/gpomdp/progress*.csv\")\n",
    "paths_remps = glob.glob(\"data/random-init-nn/remps/progress*.csv\")\n",
    "\n",
    "paths"
   ]
  },
  {
   "cell_type": "code",
   "execution_count": 24,
   "metadata": {},
   "outputs": [
    {
     "data": {
      "text/plain": [
       "array([ 7.9,  6.9, 15.1, 19.1,  4.9,  3.9, 20.1, 27.9, 20.1, 24.9, 24.9,\n",
       "       21.1,  8.9,  8.9,  9.9, 19.1,  5.9,  8.9, 23.9, 19.1])"
      ]
     },
     "execution_count": 24,
     "metadata": {},
     "output_type": "execute_result"
    }
   ],
   "source": [
    "dfs = [pd.read_csv(p) for p in paths_gpomdp]\n",
    "om = np.array([df.Omega[0] for df in dfs])\n",
    "ret = np.array([np.max(df.ReturnsMean) for df in dfs])\n",
    "om"
   ]
  },
  {
   "cell_type": "code",
   "execution_count": 25,
   "metadata": {},
   "outputs": [
    {
     "data": {
      "text/plain": [
       "array([ 9.9600255 , 12.95473216, 24.00721061, 27.04708338, 27.04646385,\n",
       "       10.95840989, 28.06388445, 28.06365795,  3.98191441, 29.08104427,\n",
       "       18.9695591 ,  7.96644513,  0.99559159, 17.96546802, 14.9558781 ,\n",
       "        6.96997149, 21.99027697, 16.96199272, 16.96166886, 14.95560161])"
      ]
     },
     "execution_count": 25,
     "metadata": {},
     "output_type": "execute_result"
    }
   ],
   "source": [
    "dfs_remps = [pd.read_csv(p) for p in paths_remps]\n",
    "om_remps = np.array([df.Omega[0] for df in dfs_remps])\n",
    "ret_remps = np.array([np.max(df.ReturnsMean) for df in dfs_remps])\n",
    "om_remps"
   ]
  },
  {
   "cell_type": "code",
   "execution_count": 30,
   "metadata": {},
   "outputs": [
    {
     "data": {
      "image/png": "[encoded data removed]",
      "text/plain": [
       "<matplotlib.figure.Figure at 0x1a1a5cccc0>"
      ]
     },
     "metadata": {},
     "output_type": "display_data"
    }
   ],
   "source": [
    "ind = np.argsort(om)\n",
    "ind_remps = np.argsort(om_remps)\n",
    "\n",
    "\n",
    "plt.plot(om[ind], ret[ind], om_remps[ind_remps], ret_remps[ind_remps])\n",
    "plt.savefig(\"random-init.png\")"
   ]
  },
  {
   "cell_type": "code",
   "execution_count": 29,
   "metadata": {},
   "outputs": [],
   "source": [
    "file_name=\"random-init.csv\"\n",
    "to_write = np.concatenate((np.reshape(om, (-1,1)), np.reshape(om_remps, (-1,1)), np.reshape(ret,(-1,1)), np.reshape(ret_remps,(-1,1))), axis=1)\n",
    "np.savetxt(file_name, to_write, delimiter=',', header=\"Omega_gpomdp, Omega_remps, Return_gpomdp, Return_remps\", comments='')\n",
    "\n"
   ]
  }
 ],
 "metadata": {
  "kernelspec": {
   "display_name": "Python 3",
   "language": "python",
   "name": "python3"
  },
  "language_info": {
   "codemirror_mode": {
    "name": "ipython",
    "version": 3
   },
   "file_extension": ".py",
   "mimetype": "text/x-python",
   "name": "python",
   "nbconvert_exporter": "python",
   "pygments_lexer": "ipython3",
   "version": "3.6.4"
  }
 },
 "nbformat": 4,
 "nbformat_minor": 2
}
