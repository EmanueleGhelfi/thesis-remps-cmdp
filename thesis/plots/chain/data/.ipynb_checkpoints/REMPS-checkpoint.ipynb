{
 "cells": [
  {
   "cell_type": "code",
   "execution_count": 2,
   "metadata": {},
   "outputs": [
    {
     "data": {
      "text/plain": [
       "['REMPS_chain_eps-1.csv',\n",
       " 'REMPS_chain_eps-0.01.csv',\n",
       " 'REMPS_chain_eps-10.csv',\n",
       " 'REMPS_chain_eps-0.0001.csv',\n",
       " 'REMPS_chain_eps-0.1.csv']"
      ]
     },
     "execution_count": 2,
     "metadata": {},
     "output_type": "execute_result"
    }
   ],
   "source": [
    "%matplotlib inline\n",
    "import pandas as pd\n",
    "import numpy as np\n",
    "import scipy.stats as sts\n",
    "import glob\n",
    "paths= glob.glob(\"*REMPS*.csv\")\n",
    "paths"
   ]
  },
  {
   "cell_type": "code",
   "execution_count": 3,
   "metadata": {},
   "outputs": [
    {
     "ename": "AttributeError",
     "evalue": "'DataFrame' object has no attribute 'Ret_mean'",
     "output_type": "error",
     "traceback": [
      "\u001b[0;31m---------------------------------------------------------------------------\u001b[0m",
      "\u001b[0;31mAttributeError\u001b[0m                            Traceback (most recent call last)",
      "\u001b[0;32m<ipython-input-3-a2f3c8c80f7c>\u001b[0m in \u001b[0;36m<module>\u001b[0;34m()\u001b[0m\n\u001b[1;32m      5\u001b[0m     \u001b[0mdf\u001b[0m \u001b[0;34m=\u001b[0m \u001b[0mpd\u001b[0m\u001b[0;34m.\u001b[0m\u001b[0mread_csv\u001b[0m\u001b[0;34m(\u001b[0m\u001b[0mp\u001b[0m\u001b[0;34m)\u001b[0m\u001b[0;34m\u001b[0m\u001b[0m\n\u001b[1;32m      6\u001b[0m \u001b[0;34m\u001b[0m\u001b[0m\n\u001b[0;32m----> 7\u001b[0;31m     \u001b[0mrets_mean\u001b[0m \u001b[0;34m=\u001b[0m \u001b[0mdf\u001b[0m\u001b[0;34m.\u001b[0m\u001b[0mRet_mean\u001b[0m\u001b[0;34m\u001b[0m\u001b[0m\n\u001b[0m\u001b[1;32m      8\u001b[0m     \u001b[0mrets_std\u001b[0m \u001b[0;34m=\u001b[0m \u001b[0mdf\u001b[0m\u001b[0;34m.\u001b[0m\u001b[0mRet_std\u001b[0m\u001b[0;34m\u001b[0m\u001b[0m\n\u001b[1;32m      9\u001b[0m \u001b[0;34m\u001b[0m\u001b[0m\n",
      "\u001b[0;32m/anaconda3/lib/python3.6/site-packages/pandas/core/generic.py\u001b[0m in \u001b[0;36m__getattr__\u001b[0;34m(self, name)\u001b[0m\n\u001b[1;32m   3612\u001b[0m             \u001b[0;32mif\u001b[0m \u001b[0mname\u001b[0m \u001b[0;32min\u001b[0m \u001b[0mself\u001b[0m\u001b[0;34m.\u001b[0m\u001b[0m_info_axis\u001b[0m\u001b[0;34m:\u001b[0m\u001b[0;34m\u001b[0m\u001b[0m\n\u001b[1;32m   3613\u001b[0m                 \u001b[0;32mreturn\u001b[0m \u001b[0mself\u001b[0m\u001b[0;34m[\u001b[0m\u001b[0mname\u001b[0m\u001b[0;34m]\u001b[0m\u001b[0;34m\u001b[0m\u001b[0m\n\u001b[0;32m-> 3614\u001b[0;31m             \u001b[0;32mreturn\u001b[0m \u001b[0mobject\u001b[0m\u001b[0;34m.\u001b[0m\u001b[0m__getattribute__\u001b[0m\u001b[0;34m(\u001b[0m\u001b[0mself\u001b[0m\u001b[0;34m,\u001b[0m \u001b[0mname\u001b[0m\u001b[0;34m)\u001b[0m\u001b[0;34m\u001b[0m\u001b[0m\n\u001b[0m\u001b[1;32m   3615\u001b[0m \u001b[0;34m\u001b[0m\u001b[0m\n\u001b[1;32m   3616\u001b[0m     \u001b[0;32mdef\u001b[0m \u001b[0m__setattr__\u001b[0m\u001b[0;34m(\u001b[0m\u001b[0mself\u001b[0m\u001b[0;34m,\u001b[0m \u001b[0mname\u001b[0m\u001b[0;34m,\u001b[0m \u001b[0mvalue\u001b[0m\u001b[0;34m)\u001b[0m\u001b[0;34m:\u001b[0m\u001b[0;34m\u001b[0m\u001b[0m\n",
      "\u001b[0;31mAttributeError\u001b[0m: 'DataFrame' object has no attribute 'Ret_mean'"
     ]
    }
   ],
   "source": [
    "conf = 0.95\n",
    "n_runs = 10\n",
    "\n",
    "for p in paths:\n",
    "    df = pd.read_csv(p)\n",
    "\n",
    "    rets_mean = df.Ret_mean\n",
    "    rets_std = df.Ret_std\n",
    "\n",
    "    # calculate upper and lower bound for confidence interval at 95%\n",
    "    rets_interval = sts.t.interval(conf, n_runs-1,loc=rets_mean,scale=rets_std/np.sqrt(n_runs))\n",
    "    rets_low = rets_interval[0]\n",
    "    rets_sup = rets_interval[1]\n",
    "\n",
    "    omega_mean = df.Omega_mean\n",
    "    omega_std = df.Omega_std\n",
    "    # calculate upper and lower bound for confidence interval at 95%\n",
    "    omega_interval = sts.t.interval(conf, n_runs-1,loc=omega_mean,scale=omega_std/np.sqrt(n_runs))\n",
    "    omega_low = omega_interval[0]\n",
    "    omega_sup = omega_interval[1]\n",
    "\n",
    "    theta_mean = df.Theta_mean\n",
    "    theta_std = df.Theta_std\n",
    "    # calculate upper and lower bound for confidence interval at 95%\n",
    "    theta_interval = sts.t.interval(conf, n_runs-1,loc=theta_mean,scale=theta_std/np.sqrt(n_runs))\n",
    "    theta_low = theta_interval[0]\n",
    "    theta_sup = theta_interval[1]\n",
    "\n",
    "    it = np.reshape(np.array(dfs[0].ITERATIONS), (-1,1))\n",
    "    file_name=\"ci\"+p\n",
    "    to_write = np.concatenate((it, theta_mean, theta_std, theta_low, theta_sup, omega_mean, omega_std, omega_low, omega_sup, rets_mean, rets_std, rets_low, rets_sup), axis=1)\n",
    "    np.savetxt(file_name, to_write, delimiter=',', header=\"Iterations,Theta_mean,Theta_std,Theta_low,Theta_sup, Omega_mean,Omega_std,Omega_low,Omega_sup,Ret_mean,Ret_std,Rets_low,Rets_sup\")\n",
    "\n"
   ]
  },
  {
   "cell_type": "code",
   "execution_count": 11,
   "metadata": {},
   "outputs": [
    {
     "data": {
      "text/plain": [
       "Index(['Iterations', ' Theta_mean', ' Theta_std', ' Omega_mean', ' Omega_std',\n",
       "       ' Ret_mean', ' Ret_std'],\n",
       "      dtype='object')"
      ]
     },
     "execution_count": 11,
     "metadata": {},
     "output_type": "execute_result"
    }
   ],
   "source": [
    "df.columns"
   ]
  }
 ],
 "metadata": {
  "kernelspec": {
   "display_name": "Python 3",
   "language": "python",
   "name": "python3"
  },
  "language_info": {
   "codemirror_mode": {
    "name": "ipython",
    "version": 3
   },
   "file_extension": ".py",
   "mimetype": "text/x-python",
   "name": "python",
   "nbconvert_exporter": "python",
   "pygments_lexer": "ipython3",
   "version": "3.6.4"
  }
 },
 "nbformat": 4,
 "nbformat_minor": 2
}
