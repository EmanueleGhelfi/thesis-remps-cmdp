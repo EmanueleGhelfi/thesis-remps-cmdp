{
 "cells": [
  {
   "cell_type": "code",
   "execution_count": 35,
   "metadata": {},
   "outputs": [
    {
     "data": {
      "text/plain": [
       "['progress7.csv',\n",
       " 'progress6.csv',\n",
       " 'progress4.csv',\n",
       " 'progress5.csv',\n",
       " 'progress1.csv',\n",
       " 'progress2.csv',\n",
       " 'progress3.csv',\n",
       " 'progress8.csv',\n",
       " 'progress9.csv',\n",
       " 'progress.csv']"
      ]
     },
     "execution_count": 35,
     "metadata": {},
     "output_type": "execute_result"
    }
   ],
   "source": [
    "%matplotlib inline\n",
    "import pandas as pd\n",
    "import numpy as np\n",
    "import glob\n",
    "paths= glob.glob(\"*progress*.csv\")\n",
    "paths"
   ]
  },
  {
   "cell_type": "code",
   "execution_count": 41,
   "metadata": {},
   "outputs": [
    {
     "data": {
      "text/plain": [
       "array([[ 0],\n",
       "       [ 1],\n",
       "       [ 2],\n",
       "       [ 3],\n",
       "       [ 4],\n",
       "       [ 5],\n",
       "       [ 6],\n",
       "       [ 7],\n",
       "       [ 8],\n",
       "       [ 9],\n",
       "       [10],\n",
       "       [11],\n",
       "       [12],\n",
       "       [13],\n",
       "       [14],\n",
       "       [15],\n",
       "       [16],\n",
       "       [17],\n",
       "       [18],\n",
       "       [19]])"
      ]
     },
     "execution_count": 41,
     "metadata": {},
     "output_type": "execute_result"
    }
   ],
   "source": [
    "dfs = [pd.read_csv(p) for p in paths]\n",
    "dfs[0].Omega\n",
    "\n",
    "rets_ = [d.ReturnsMean for d in dfs]\n",
    "rets_np = np.transpose(np.array(rets_))\n",
    "rets_mean = np.mean(rets_np, axis=1, keepdims=True)\n",
    "rets_std = np.std(rets_np, axis=1, keepdims=True)\n",
    "\n",
    "omega_ = [d.Omega for d in dfs]\n",
    "omega_np = np.transpose(np.array(omega_))\n",
    "omega_mean = np.mean(omega_np, axis=1, keepdims=True)\n",
    "omega_std = np.std(omega_np, axis=1, keepdims=True)\n",
    "\n",
    "theta_ = [d.Theta for d in dfs]\n",
    "theta_np = np.transpose(np.array(theta_))\n",
    "theta_mean = np.mean(theta_np, axis=1, keepdims=True)\n",
    "theta_std = np.std(theta_np, axis=1, keepdims=True)\n",
    "\n",
    "it = np.reshape(np.array(dfs[0].ITERATIONS), (-1,1))"
   ]
  },
  {
   "cell_type": "code",
   "execution_count": 43,
   "metadata": {},
   "outputs": [],
   "source": [
    "file_name=\"gpomdp.csv\"\n",
    "to_write = np.concatenate((it, theta_mean, theta_std, omega_mean, omega_std, rets_mean, rets_std), axis=1)\n",
    "np.savetxt(file_name, to_write, delimiter=',', header=\"Iterations, Theta_mean, Theta_std, Omega_mean, Omega_std, Ret_mean, Ret_std\")\n"
   ]
  }
 ],
 "metadata": {
  "kernelspec": {
   "display_name": "Python 3",
   "language": "python",
   "name": "python3"
  },
  "language_info": {
   "codemirror_mode": {
    "name": "ipython",
    "version": 3
   },
   "file_extension": ".py",
   "mimetype": "text/x-python",
   "name": "python",
   "nbconvert_exporter": "python",
   "pygments_lexer": "ipython3",
   "version": "3.6.4"
  }
 },
 "nbformat": 4,
 "nbformat_minor": 2
}
