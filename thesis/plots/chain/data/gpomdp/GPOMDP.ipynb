{
 "cells": [
  {
   "cell_type": "code",
   "execution_count": 1,
   "metadata": {},
   "outputs": [
    {
     "data": {
      "text/plain": [
       "['progress7.csv',\n",
       " 'progress6.csv',\n",
       " 'progress4.csv',\n",
       " 'progress5.csv',\n",
       " 'progress1.csv',\n",
       " 'progress2.csv',\n",
       " 'progress3.csv',\n",
       " 'progress8.csv',\n",
       " 'progress9.csv',\n",
       " 'progress.csv']"
      ]
     },
     "execution_count": 1,
     "metadata": {},
     "output_type": "execute_result"
    }
   ],
   "source": [
    "%matplotlib inline\n",
    "import pandas as pd\n",
    "import numpy as np\n",
    "import scipy.stats as sts\n",
    "import glob\n",
    "paths= glob.glob(\"*progress*.csv\")\n",
    "paths"
   ]
  },
  {
   "cell_type": "code",
   "execution_count": 2,
   "metadata": {},
   "outputs": [],
   "source": [
    "conf = 0.95\n",
    "n_runs = 10\n",
    "\n",
    "dfs = [pd.read_csv(p) for p in paths]\n",
    "dfs[0].Omega\n",
    "\n",
    "rets_ = [d.ReturnsMean for d in dfs]\n",
    "rets_np = np.transpose(np.array(rets_))\n",
    "rets_mean = np.mean(rets_np, axis=1, keepdims=True)\n",
    "rets_std = np.std(rets_np, axis=1, keepdims=True)\n",
    "\n",
    "# calculate upper and lower bound for confidence interval at 95%\n",
    "rets_interval = sts.t.interval(conf, n_runs-1,loc=rets_mean,scale=rets_std/np.sqrt(n_runs))\n",
    "rets_low = rets_interval[0]\n",
    "rets_sup = rets_interval[1]\n",
    "\n",
    "\n",
    "omega_ = [d.Omega for d in dfs]\n",
    "omega_np = np.transpose(np.array(omega_))\n",
    "omega_mean = np.mean(omega_np, axis=1, keepdims=True)\n",
    "omega_std = np.std(omega_np, axis=1, keepdims=True)\n",
    "# calculate upper and lower bound for confidence interval at 95%\n",
    "omega_interval = sts.t.interval(conf, n_runs-1,loc=omega_mean,scale=omega_std/np.sqrt(n_runs))\n",
    "omega_low = omega_interval[0]\n",
    "omega_sup = omega_interval[1]\n",
    "\n",
    "theta_ = [d.Theta for d in dfs]\n",
    "theta_np = np.transpose(np.array(theta_))\n",
    "theta_mean = np.mean(theta_np, axis=1, keepdims=True)\n",
    "theta_std = np.std(theta_np, axis=1, keepdims=True)\n",
    "# calculate upper and lower bound for confidence interval at 95%\n",
    "theta_interval = sts.t.interval(conf, n_runs-1,loc=theta_mean,scale=theta_std/np.sqrt(n_runs))\n",
    "theta_low = theta_interval[0]\n",
    "theta_sup = theta_interval[1]\n",
    "\n",
    "it = np.reshape(np.array(dfs[0].ITERATIONS), (-1,1))"
   ]
  },
  {
   "cell_type": "code",
   "execution_count": 5,
   "metadata": {},
   "outputs": [
    {
     "data": {
      "text/plain": [
       "(40, 1)"
      ]
     },
     "execution_count": 5,
     "metadata": {},
     "output_type": "execute_result"
    }
   ],
   "source": []
  },
  {
   "cell_type": "code",
   "execution_count": 3,
   "metadata": {},
   "outputs": [],
   "source": [
    "file_name=\"gpomdp.csv\"\n",
    "to_write = np.concatenate((it, theta_mean, theta_std, theta_low, theta_sup, omega_mean, omega_std, omega_low, omega_sup, rets_mean, rets_std, rets_low, rets_sup), axis=1)\n",
    "np.savetxt(file_name, to_write, delimiter=',', header=\"Iterations, Theta_mean, Theta_std, Theta_low, Theta_sup, Omega_mean, Omega_std, Omega_low, Omega_sup, Ret_mean, Ret_std, Rets_low, Rets_sup\")\n"
   ]
  }
 ],
 "metadata": {
  "kernelspec": {
   "display_name": "Python 3",
   "language": "python",
   "name": "python3"
  },
  "language_info": {
   "codemirror_mode": {
    "name": "ipython",
    "version": 3
   },
   "file_extension": ".py",
   "mimetype": "text/x-python",
   "name": "python",
   "nbconvert_exporter": "python",
   "pygments_lexer": "ipython3",
   "version": "3.6.4"
  }
 },
 "nbformat": 4,
 "nbformat_minor": 2
}
